{
  "nbformat": 4,
  "nbformat_minor": 0,
  "metadata": {
    "colab": {
      "provenance": []
    },
    "kernelspec": {
      "name": "python3",
      "display_name": "Python 3"
    },
    "language_info": {
      "name": "python"
    }
  },
  "cells": [
    {
      "cell_type": "markdown",
      "source": [
        "#Importing important file"
      ],
      "metadata": {
        "id": "1KleGbOILJuS"
      }
    },
    {
      "cell_type": "code",
      "execution_count": null,
      "metadata": {
        "id": "5BoDezjRK1eV",
        "colab": {
          "base_uri": "https://localhost:8080/"
        },
        "outputId": "82d28568-bf21-4b85-cebe-cf7efcea5014"
      },
      "outputs": [
        {
          "output_type": "stream",
          "name": "stdout",
          "text": [
            "Drive already mounted at /content/drive; to attempt to forcibly remount, call drive.mount(\"/content/drive\", force_remount=True).\n"
          ]
        }
      ],
      "source": [
        "from google.colab import drive\n",
        "drive.mount('/content/drive')"
      ]
    },
    {
      "cell_type": "code",
      "source": [
        "import seaborn as sns\n",
        "import pandas as pd\n",
        "import numpy as np\n",
        "import matplotlib.pyplot as plt\n",
        "%matplotlib inline"
      ],
      "metadata": {
        "id": "DrWFfMwdLWwo"
      },
      "execution_count": null,
      "outputs": []
    },
    {
      "cell_type": "code",
      "source": [
        "ind_15_16_df = pd.read_csv('/content/drive/MyDrive/DHS/Diabetes/Data/India/converted_data_india_2016.csv')"
      ],
      "metadata": {
        "id": "lMr3oRTOWtmA"
      },
      "execution_count": null,
      "outputs": []
    },
    {
      "cell_type": "markdown",
      "source": [
        "#**Extracting info about this dataset**\n",
        "### we get 40 column and 2869043 rows,2043282 nan value exist in glucose level.825761 which are not numeric value."
      ],
      "metadata": {
        "id": "LEA6V4rlZ1_O"
      }
    },
    {
      "cell_type": "markdown",
      "source": [
        "###glucose level - shb70 analysis and drop nan"
      ],
      "metadata": {
        "id": "JnDSgFrsGez5"
      }
    },
    {
      "cell_type": "code",
      "source": [
        "ind_15_16_df.shape"
      ],
      "metadata": {
        "colab": {
          "base_uri": "https://localhost:8080/"
        },
        "id": "E3uSEb3LZxgm",
        "outputId": "cecfc5bd-fd71-481b-959f-7e3d8978eccb"
      },
      "execution_count": null,
      "outputs": [
        {
          "output_type": "execute_result",
          "data": {
            "text/plain": [
              "(2869043, 41)"
            ]
          },
          "metadata": {},
          "execution_count": 4
        }
      ]
    },
    {
      "cell_type": "code",
      "source": [
        "#Glucose level\n",
        "glu = ind_15_16_df.loc[ind_15_16_df['shb70'].isnull()==False]"
      ],
      "metadata": {
        "id": "qJLiXbhKYEYO"
      },
      "execution_count": null,
      "outputs": []
    },
    {
      "cell_type": "code",
      "source": [
        "glu['shb70'].shape"
      ],
      "metadata": {
        "colab": {
          "base_uri": "https://localhost:8080/"
        },
        "id": "lIwEBwKDdp9a",
        "outputId": "cc13d5e9-74d6-45a1-e938-72f1035f266e"
      },
      "execution_count": null,
      "outputs": [
        {
          "output_type": "execute_result",
          "data": {
            "text/plain": [
              "(825761,)"
            ]
          },
          "metadata": {},
          "execution_count": 24
        }
      ]
    },
    {
      "cell_type": "code",
      "source": [
        "# Create a density plot\n",
        "sns.kdeplot(data=glu['shb70'], shade=True, color=\"skyblue\")\n",
        "plt.title(\"Density Plot\")\n",
        "plt.xlabel(\"X-Axis Label\")\n",
        "plt.ylabel(\"Y\")\n",
        "plt.show()"
      ],
      "metadata": {
        "colab": {
          "base_uri": "https://localhost:8080/",
          "height": 576
        },
        "id": "MGRrQd5JRM51",
        "outputId": "613cb3d9-ef87-4123-97ea-407cc361c7c9"
      },
      "execution_count": null,
      "outputs": [
        {
          "output_type": "stream",
          "name": "stderr",
          "text": [
            "<ipython-input-7-1f5d372df47e>:2: FutureWarning: \n",
            "\n",
            "`shade` is now deprecated in favor of `fill`; setting `fill=True`.\n",
            "This will become an error in seaborn v0.14.0; please update your code.\n",
            "\n",
            "  sns.kdeplot(data=glu['shb70'], shade=True, color=\"skyblue\")\n"
          ]
        },
        {
          "output_type": "display_data",
          "data": {
            "text/plain": [
              "<Figure size 640x480 with 1 Axes>"
            ],
            "image/png": "[encoded data removed]"
          },
          "metadata": {}
        }
      ]
    },
    {
      "cell_type": "markdown",
      "source": [
        "##shb19 - madic feature we get 0 = 787276 and 1 = 24257 from 825761 rows"
      ],
      "metadata": {
        "id": "jkD5QOp12xvo"
      }
    },
    {
      "cell_type": "code",
      "source": [
        "#re indexing\n",
        "glu_medic = glu.reset_index(drop = True)"
      ],
      "metadata": {
        "id": "DTlgbHjm4Ybx"
      },
      "execution_count": null,
      "outputs": []
    },
    {
      "cell_type": "code",
      "source": [
        "#glu level after re- indexing\n",
        "glu_medic['shb70']"
      ],
      "metadata": {
        "colab": {
          "base_uri": "https://localhost:8080/"
        },
        "id": "KdL4MByl4n5_",
        "outputId": "862391dd-b867-4d98-d362-cabc2b1c171c"
      },
      "execution_count": null,
      "outputs": [
        {
          "output_type": "execute_result",
          "data": {
            "text/plain": [
              "0         116.0\n",
              "1          83.0\n",
              "2         278.0\n",
              "3         154.0\n",
              "4          74.0\n",
              "          ...  \n",
              "825756    105.0\n",
              "825757    995.0\n",
              "825758    125.0\n",
              "825759    121.0\n",
              "825760    138.0\n",
              "Name: shb70, Length: 825761, dtype: float64"
            ]
          },
          "metadata": {},
          "execution_count": 9
        }
      ]
    },
    {
      "cell_type": "code",
      "source": [
        "glu_medic.loc[ind_15_16_df['shb19'].isnull()==False]\n",
        "glu_medic[['shb19']]"
      ],
      "metadata": {
        "colab": {
          "base_uri": "https://localhost:8080/",
          "height": 424
        },
        "id": "Rb-fwNyf46Kv",
        "outputId": "cfc55247-f07e-4db2-ada3-03b5a3492191"
      },
      "execution_count": null,
      "outputs": [
        {
          "output_type": "execute_result",
          "data": {
            "text/plain": [
              "        shb19\n",
              "0         0.0\n",
              "1         0.0\n",
              "2         1.0\n",
              "3         0.0\n",
              "4         0.0\n",
              "...       ...\n",
              "825756    0.0\n",
              "825757    0.0\n",
              "825758    0.0\n",
              "825759    0.0\n",
              "825760    0.0\n",
              "\n",
              "[825761 rows x 1 columns]"
            ],
            "text/html": [
              "\n",
              "  <div id=\"df-128c3987-58fc-4057-997e-8664e6e5b531\" class=\"colab-df-container\">\n",
              "    <div>\n",
              "<style scoped>\n",
              "    .dataframe tbody tr th:only-of-type {\n",
              "        vertical-align: middle;\n",
              "    }\n",
              "\n",
              "    .dataframe tbody tr th {\n",
              "        vertical-align: top;\n",
              "    }\n",
              "\n",
              "    .dataframe thead th {\n",
              "        text-align: right;\n",
              "    }\n",
              "</style>\n",
              "<table border=\"1\" class=\"dataframe\">\n",
              "  <thead>\n",
              "    <tr style=\"text-align: right;\">\n",
              "      <th></th>\n",
              "      <th>shb19</th>\n",
              "    </tr>\n",
              "  </thead>\n",
              "  <tbody>\n",
              "    <tr>\n",
              "      <th>0</th>\n",
              "      <td>0.0</td>\n",
              "    </tr>\n",
              "    <tr>\n",
              "      <th>1</th>\n",
              "      <td>0.0</td>\n",
              "    </tr>\n",
              "    <tr>\n",
              "      <th>2</th>\n",
              "      <td>1.0</td>\n",
              "    </tr>\n",
              "    <tr>\n",
              "      <th>3</th>\n",
              "      <td>0.0</td>\n",
              "    </tr>\n",
              "    <tr>\n",
              "      <th>4</th>\n",
              "      <td>0.0</td>\n",
              "    </tr>\n",
              "    <tr>\n",
              "      <th>...</th>\n",
              "      <td>...</td>\n",
              "    </tr>\n",
              "    <tr>\n",
              "      <th>825756</th>\n",
              "      <td>0.0</td>\n",
              "    </tr>\n",
              "    <tr>\n",
              "      <th>825757</th>\n",
              "      <td>0.0</td>\n",
              "    </tr>\n",
              "    <tr>\n",
              "      <th>825758</th>\n",
              "      <td>0.0</td>\n",
              "    </tr>\n",
              "    <tr>\n",
              "      <th>825759</th>\n",
              "      <td>0.0</td>\n",
              "    </tr>\n",
              "    <tr>\n",
              "      <th>825760</th>\n",
              "      <td>0.0</td>\n",
              "    </tr>\n",
              "  </tbody>\n",
              "</table>\n",
              "<p>825761 rows × 1 columns</p>\n",
              "</div>\n",
              "    <div class=\"colab-df-buttons\">\n",
              "\n",
              "  <div class=\"colab-df-container\">\n",
              "    <button class=\"colab-df-convert\" onclick=\"convertToInteractive('df-128c3987-58fc-4057-997e-8664e6e5b531')\"\n",
              "            title=\"Convert this dataframe to an interactive table.\"\n",
              "            style=\"display:none;\">\n",
              "\n",
              "  <svg xmlns=\"http://www.w3.org/2000/svg\" height=\"24px\" viewBox=\"0 -960 960 960\">\n",
              "    <path d=\"M120-120v-720h720v720H120Zm60-500h600v-160H180v160Zm220 220h160v-160H400v160Zm0 220h160v-160H400v160ZM180-400h160v-160H180v160Zm440 0h160v-160H620v160ZM180-180h160v-160H180v160Zm440 0h160v-160H620v160Z\"/>\n",
              "  </svg>\n",
              "    </button>\n",
              "\n",
              "  <style>\n",
              "    .colab-df-container {\n",
              "      display:flex;\n",
              "      gap: 12px;\n",
              "    }\n",
              "\n",
              "    .colab-df-convert {\n",
              "      background-color: #E8F0FE;\n",
              "      border: none;\n",
              "      border-radius: 50%;\n",
              "      cursor: pointer;\n",
              "      display: none;\n",
              "      fill: #1967D2;\n",
              "      height: 32px;\n",
              "      padding: 0 0 0 0;\n",
              "      width: 32px;\n",
              "    }\n",
              "\n",
              "    .colab-df-convert:hover {\n",
              "      background-color: #E2EBFA;\n",
              "      box-shadow: 0px 1px 2px rgba(60, 64, 67, 0.3), 0px 1px 3px 1px rgba(60, 64, 67, 0.15);\n",
              "      fill: #174EA6;\n",
              "    }\n",
              "\n",
              "    .colab-df-buttons div {\n",
              "      margin-bottom: 4px;\n",
              "    }\n",
              "\n",
              "    [theme=dark] .colab-df-convert {\n",
              "      background-color: #3B4455;\n",
              "      fill: #D2E3FC;\n",
              "    }\n",
              "\n",
              "    [theme=dark] .colab-df-convert:hover {\n",
              "      background-color: #434B5C;\n",
              "      box-shadow: 0px 1px 3px 1px rgba(0, 0, 0, 0.15);\n",
              "      filter: drop-shadow(0px 1px 2px rgba(0, 0, 0, 0.3));\n",
              "      fill: #FFFFFF;\n",
              "    }\n",
              "  </style>\n",
              "\n",
              "    <script>\n",
              "      const buttonEl =\n",
              "        document.querySelector('#df-128c3987-58fc-4057-997e-8664e6e5b531 button.colab-df-convert');\n",
              "      buttonEl.style.display =\n",
              "        google.colab.kernel.accessAllowed ? 'block' : 'none';\n",
              "\n",
              "      async function convertToInteractive(key) {\n",
              "        const element = document.querySelector('#df-128c3987-58fc-4057-997e-8664e6e5b531');\n",
              "        const dataTable =\n",
              "          await google.colab.kernel.invokeFunction('convertToInteractive',\n",
              "                                                    [key], {});\n",
              "        if (!dataTable) return;\n",
              "\n",
              "        const docLinkHtml = 'Like what you see? Visit the ' +\n",
              "          '<a target=\"_blank\" href=https://colab.research.google.com/notebooks/data_table.ipynb>data table notebook</a>'\n",
              "          + ' to learn more about interactive tables.';\n",
              "        element.innerHTML = '';\n",
              "        dataTable['output_type'] = 'display_data';\n",
              "        await google.colab.output.renderOutput(dataTable, element);\n",
              "        const docLink = document.createElement('div');\n",
              "        docLink.innerHTML = docLinkHtml;\n",
              "        element.appendChild(docLink);\n",
              "      }\n",
              "    </script>\n",
              "  </div>\n",
              "\n",
              "\n",
              "<div id=\"df-8e5fa51c-cb96-4354-bf4f-eb8656dc83a0\">\n",
              "  <button class=\"colab-df-quickchart\" onclick=\"quickchart('df-8e5fa51c-cb96-4354-bf4f-eb8656dc83a0')\"\n",
              "            title=\"Suggest charts.\"\n",
              "            style=\"display:none;\">\n",
              "\n",
              "<svg xmlns=\"http://www.w3.org/2000/svg\" height=\"24px\"viewBox=\"0 0 24 24\"\n",
              "     width=\"24px\">\n",
              "    <g>\n",
              "        <path d=\"M19 3H5c-1.1 0-2 .9-2 2v14c0 1.1.9 2 2 2h14c1.1 0 2-.9 2-2V5c0-1.1-.9-2-2-2zM9 17H7v-7h2v7zm4 0h-2V7h2v10zm4 0h-2v-4h2v4z\"/>\n",
              "    </g>\n",
              "</svg>\n",
              "  </button>\n",
              "\n",
              "<style>\n",
              "  .colab-df-quickchart {\n",
              "      --bg-color: #E8F0FE;\n",
              "      --fill-color: #1967D2;\n",
              "      --hover-bg-color: #E2EBFA;\n",
              "      --hover-fill-color: #174EA6;\n",
              "      --disabled-fill-color: #AAA;\n",
              "      --disabled-bg-color: #DDD;\n",
              "  }\n",
              "\n",
              "  [theme=dark] .colab-df-quickchart {\n",
              "      --bg-color: #3B4455;\n",
              "      --fill-color: #D2E3FC;\n",
              "      --hover-bg-color: #434B5C;\n",
              "      --hover-fill-color: #FFFFFF;\n",
              "      --disabled-bg-color: #3B4455;\n",
              "      --disabled-fill-color: #666;\n",
              "  }\n",
              "\n",
              "  .colab-df-quickchart {\n",
              "    background-color: var(--bg-color);\n",
              "    border: none;\n",
              "    border-radius: 50%;\n",
              "    cursor: pointer;\n",
              "    display: none;\n",
              "    fill: var(--fill-color);\n",
              "    height: 32px;\n",
              "    padding: 0;\n",
              "    width: 32px;\n",
              "  }\n",
              "\n",
              "  .colab-df-quickchart:hover {\n",
              "    background-color: var(--hover-bg-color);\n",
              "    box-shadow: 0 1px 2px rgba(60, 64, 67, 0.3), 0 1px 3px 1px rgba(60, 64, 67, 0.15);\n",
              "    fill: var(--button-hover-fill-color);\n",
              "  }\n",
              "\n",
              "  .colab-df-quickchart-complete:disabled,\n",
              "  .colab-df-quickchart-complete:disabled:hover {\n",
              "    background-color: var(--disabled-bg-color);\n",
              "    fill: var(--disabled-fill-color);\n",
              "    box-shadow: none;\n",
              "  }\n",
              "\n",
              "  .colab-df-spinner {\n",
              "    border: 2px solid var(--fill-color);\n",
              "    border-color: transparent;\n",
              "    border-bottom-color: var(--fill-color);\n",
              "    animation:\n",
              "      spin 1s steps(1) infinite;\n",
              "  }\n",
              "\n",
              "  @keyframes spin {\n",
              "    0% {\n",
              "      border-color: transparent;\n",
              "      border-bottom-color: var(--fill-color);\n",
              "      border-left-color: var(--fill-color);\n",
              "    }\n",
              "    20% {\n",
              "      border-color: transparent;\n",
              "      border-left-color: var(--fill-color);\n",
              "      border-top-color: var(--fill-color);\n",
              "    }\n",
              "    30% {\n",
              "      border-color: transparent;\n",
              "      border-left-color: var(--fill-color);\n",
              "      border-top-color: var(--fill-color);\n",
              "      border-right-color: var(--fill-color);\n",
              "    }\n",
              "    40% {\n",
              "      border-color: transparent;\n",
              "      border-right-color: var(--fill-color);\n",
              "      border-top-color: var(--fill-color);\n",
              "    }\n",
              "    60% {\n",
              "      border-color: transparent;\n",
              "      border-right-color: var(--fill-color);\n",
              "    }\n",
              "    80% {\n",
              "      border-color: transparent;\n",
              "      border-right-color: var(--fill-color);\n",
              "      border-bottom-color: var(--fill-color);\n",
              "    }\n",
              "    90% {\n",
              "      border-color: transparent;\n",
              "      border-bottom-color: var(--fill-color);\n",
              "    }\n",
              "  }\n",
              "</style>\n",
              "\n",
              "  <script>\n",
              "    async function quickchart(key) {\n",
              "      const quickchartButtonEl =\n",
              "        document.querySelector('#' + key + ' button');\n",
              "      quickchartButtonEl.disabled = true;  // To prevent multiple clicks.\n",
              "      quickchartButtonEl.classList.add('colab-df-spinner');\n",
              "      try {\n",
              "        const charts = await google.colab.kernel.invokeFunction(\n",
              "            'suggestCharts', [key], {});\n",
              "      } catch (error) {\n",
              "        console.error('Error during call to suggestCharts:', error);\n",
              "      }\n",
              "      quickchartButtonEl.classList.remove('colab-df-spinner');\n",
              "      quickchartButtonEl.classList.add('colab-df-quickchart-complete');\n",
              "    }\n",
              "    (() => {\n",
              "      let quickchartButtonEl =\n",
              "        document.querySelector('#df-8e5fa51c-cb96-4354-bf4f-eb8656dc83a0 button');\n",
              "      quickchartButtonEl.style.display =\n",
              "        google.colab.kernel.accessAllowed ? 'block' : 'none';\n",
              "    })();\n",
              "  </script>\n",
              "</div>\n",
              "    </div>\n",
              "  </div>\n"
            ]
          },
          "metadata": {},
          "execution_count": 10
        }
      ]
    },
    {
      "cell_type": "code",
      "source": [
        "#how many people taking medic\n",
        "glu_medic[['shb19']].value_counts()"
      ],
      "metadata": {
        "id": "MtBytQy0Ut3K",
        "colab": {
          "base_uri": "https://localhost:8080/"
        },
        "outputId": "e63ae4b2-fe75-469d-8dc0-7c4005a601b2"
      },
      "execution_count": null,
      "outputs": [
        {
          "output_type": "execute_result",
          "data": {
            "text/plain": [
              "shb19\n",
              "0.0      787276\n",
              "1.0       24257\n",
              "dtype: int64"
            ]
          },
          "metadata": {},
          "execution_count": 11
        }
      ]
    },
    {
      "cell_type": "markdown",
      "source": [
        "#Analysis part"
      ],
      "metadata": {
        "id": "lj7yggXNEOkr"
      }
    },
    {
      "cell_type": "markdown",
      "source": [
        "##Extract related feature"
      ],
      "metadata": {
        "id": "brA9INIaHO5j"
      }
    },
    {
      "cell_type": "code",
      "source": [
        "#shb51,shb52,hv109,hv116\n",
        "extracted_col = glu_medic[['hv005','hv021','hv023','hv105','hv115','hv104','hv106','hml18','shb70','ha40','ha53','ha55','shb13','hv206',\n",
        "             'ha60','hc27','hb35','shdistri','hv025','hb40','hv252','shb16s','shb23s','shb27s','shb16d','shb23d','shb27d','hv270',\n",
        "                        'shb19','hv024','hc53','hc55','hc56','hv026','hv219','ha57','hb60','shb51','shb52','hv109','hv116' ]]"
      ],
      "metadata": {
        "id": "jW_w0Y5a809g"
      },
      "execution_count": null,
      "outputs": []
    },
    {
      "cell_type": "markdown",
      "source": [
        "##watching nan value and without nan values"
      ],
      "metadata": {
        "id": "HJsCdOwAFHt5"
      }
    },
    {
      "cell_type": "code",
      "source": [
        "nan_counts = {}\n",
        "non_nan_counts = {}\n",
        "# Iterate through columns and calculate the sum of NaN values for each column\n",
        "for column in extracted_col.columns:\n",
        "    nan_count = extracted_col[column].isnull().sum()\n",
        "    non_nan_count = len(extracted_col) - nan_count\n",
        "    nan_counts[column] = nan_count\n",
        "    non_nan_counts[column] = non_nan_count\n",
        "# Print column names and their corresponding NaN counts\n",
        "for column, nan_count in nan_counts.items():\n",
        "    non_nan_count = non_nan_counts[column]\n",
        "    print(f\"Column '{column}' has {nan_count} NaN values and {non_nan_count} non-NaN values.\")"
      ],
      "metadata": {
        "colab": {
          "base_uri": "https://localhost:8080/"
        },
        "id": "DaHhjBt-7xOn",
        "outputId": "abe64fa3-7a38-4523-9322-cfee80641dd6"
      },
      "execution_count": null,
      "outputs": [
        {
          "output_type": "stream",
          "name": "stdout",
          "text": [
            "Column 'hv005' has 0 NaN values and 825761 non-NaN values.\n",
            "Column 'hv021' has 0 NaN values and 825761 non-NaN values.\n",
            "Column 'hv023' has 0 NaN values and 825761 non-NaN values.\n",
            "Column 'hv105' has 0 NaN values and 825761 non-NaN values.\n",
            "Column 'hv115' has 0 NaN values and 825761 non-NaN values.\n",
            "Column 'hv104' has 0 NaN values and 825761 non-NaN values.\n",
            "Column 'hv106' has 0 NaN values and 825761 non-NaN values.\n",
            "Column 'hml18' has 118837 NaN values and 706924 non-NaN values.\n",
            "Column 'shb70' has 0 NaN values and 825761 non-NaN values.\n",
            "Column 'ha40' has 125140 NaN values and 700621 non-NaN values.\n",
            "Column 'ha53' has 114327 NaN values and 711434 non-NaN values.\n",
            "Column 'ha55' has 114327 NaN values and 711434 non-NaN values.\n",
            "Column 'shb13' has 14048 NaN values and 811713 non-NaN values.\n",
            "Column 'hv206' has 0 NaN values and 825761 non-NaN values.\n",
            "Column 'ha60' has 749200 NaN values and 76561 non-NaN values.\n",
            "Column 'hc27' has 825761 NaN values and 0 non-NaN values.\n",
            "Column 'hb35' has 713341 NaN values and 112420 non-NaN values.\n",
            "Column 'shdistri' has 0 NaN values and 825761 non-NaN values.\n",
            "Column 'hv025' has 0 NaN values and 825761 non-NaN values.\n",
            "Column 'hb40' has 714122 NaN values and 111639 non-NaN values.\n",
            "Column 'hv252' has 0 NaN values and 825761 non-NaN values.\n",
            "Column 'shb16s' has 13902 NaN values and 811859 non-NaN values.\n",
            "Column 'shb23s' has 26027 NaN values and 799734 non-NaN values.\n",
            "Column 'shb27s' has 44694 NaN values and 781067 non-NaN values.\n",
            "Column 'shb16d' has 14220 NaN values and 811541 non-NaN values.\n",
            "Column 'shb23d' has 26071 NaN values and 799690 non-NaN values.\n",
            "Column 'shb27d' has 44728 NaN values and 781033 non-NaN values.\n",
            "Column 'hv270' has 0 NaN values and 825761 non-NaN values.\n",
            "Column 'shb19' has 14228 NaN values and 811533 non-NaN values.\n",
            "Column 'hv024' has 0 NaN values and 825761 non-NaN values.\n",
            "Column 'hc53' has 825761 NaN values and 0 non-NaN values.\n",
            "Column 'hc55' has 825761 NaN values and 0 non-NaN values.\n",
            "Column 'hc56' has 825761 NaN values and 0 non-NaN values.\n",
            "Column 'hv026' has 825761 NaN values and 0 non-NaN values.\n",
            "Column 'hv219' has 0 NaN values and 825761 non-NaN values.\n",
            "Column 'ha57' has 128157 NaN values and 697604 non-NaN values.\n",
            "Column 'hb60' has 814001 NaN values and 11760 non-NaN values.\n",
            "Column 'shb51' has 18363 NaN values and 807398 non-NaN values.\n",
            "Column 'shb52' has 23182 NaN values and 802579 non-NaN values.\n",
            "Column 'hv109' has 0 NaN values and 825761 non-NaN values.\n",
            "Column 'hv116' has 48 NaN values and 825713 non-NaN values.\n"
          ]
        }
      ]
    },
    {
      "cell_type": "code",
      "source": [
        "extracted_col.info()"
      ],
      "metadata": {
        "colab": {
          "base_uri": "https://localhost:8080/"
        },
        "id": "Ikr9_JF-Ht0R",
        "outputId": "e38304ce-6f51-4138-d513-33b74cc2780d"
      },
      "execution_count": null,
      "outputs": [
        {
          "output_type": "stream",
          "name": "stdout",
          "text": [
            "<class 'pandas.core.frame.DataFrame'>\n",
            "RangeIndex: 825761 entries, 0 to 825760\n",
            "Data columns (total 41 columns):\n",
            " #   Column    Non-Null Count   Dtype  \n",
            "---  ------    --------------   -----  \n",
            " 0   hv005     825761 non-null  int64  \n",
            " 1   hv021     825761 non-null  int64  \n",
            " 2   hv023     825761 non-null  int64  \n",
            " 3   hv105     825761 non-null  int64  \n",
            " 4   hv115     825761 non-null  float64\n",
            " 5   hv104     825761 non-null  int64  \n",
            " 6   hv106     825761 non-null  int64  \n",
            " 7   hml18     706924 non-null  float64\n",
            " 8   shb70     825761 non-null  float64\n",
            " 9   ha40      700621 non-null  float64\n",
            " 10  ha53      711434 non-null  float64\n",
            " 11  ha55      711434 non-null  float64\n",
            " 12  shb13     811713 non-null  float64\n",
            " 13  hv206     825761 non-null  int64  \n",
            " 14  ha60      76561 non-null   float64\n",
            " 15  hc27      0 non-null       float64\n",
            " 16  hb35      112420 non-null  float64\n",
            " 17  shdistri  825761 non-null  int64  \n",
            " 18  hv025     825761 non-null  int64  \n",
            " 19  hb40      111639 non-null  float64\n",
            " 20  hv252     825761 non-null  int64  \n",
            " 21  shb16s    811859 non-null  float64\n",
            " 22  shb23s    799734 non-null  float64\n",
            " 23  shb27s    781067 non-null  float64\n",
            " 24  shb16d    811541 non-null  float64\n",
            " 25  shb23d    799690 non-null  float64\n",
            " 26  shb27d    781033 non-null  float64\n",
            " 27  hv270     825761 non-null  int64  \n",
            " 28  shb19     811533 non-null  float64\n",
            " 29  hv024     825761 non-null  int64  \n",
            " 30  hc53      0 non-null       float64\n",
            " 31  hc55      0 non-null       float64\n",
            " 32  hc56      0 non-null       float64\n",
            " 33  hv026     0 non-null       float64\n",
            " 34  hv219     825761 non-null  int64  \n",
            " 35  ha57      697604 non-null  float64\n",
            " 36  hb60      11760 non-null   float64\n",
            " 37  shb51     807398 non-null  float64\n",
            " 38  shb52     802579 non-null  float64\n",
            " 39  hv109     825761 non-null  int64  \n",
            " 40  hv116     825713 non-null  float64\n",
            "dtypes: float64(27), int64(14)\n",
            "memory usage: 258.3 MB\n"
          ]
        }
      ]
    },
    {
      "cell_type": "markdown",
      "source": [
        "## Prengnancy check - hml18"
      ],
      "metadata": {
        "id": "W0HirubjFqKY"
      }
    },
    {
      "cell_type": "markdown",
      "source": [
        "### here we get,\n",
        "*  0(no)-    673976\n",
        "*  1(yes) -    32948\n",
        "\n",
        "\n"
      ],
      "metadata": {
        "id": "B36Uj4ftIKHB"
      }
    },
    {
      "cell_type": "code",
      "source": [
        "extracted_col[['hml18']].value_counts()"
      ],
      "metadata": {
        "colab": {
          "base_uri": "https://localhost:8080/"
        },
        "id": "BwP7dXeOFpIg",
        "outputId": "4e5f8ac8-f3a0-45f2-9043-a1f335d0c733"
      },
      "execution_count": null,
      "outputs": [
        {
          "output_type": "execute_result",
          "data": {
            "text/plain": [
              "hml18\n",
              "0.0      673976\n",
              "1.0       32948\n",
              "dtype: int64"
            ]
          },
          "metadata": {},
          "execution_count": 15
        }
      ]
    },
    {
      "cell_type": "markdown",
      "source": [
        "## Glucose Level for Individuals with Diabetes:\n",
        "\n",
        "**Pregnant with fasting** : 60 - 90mg/dl+ is diabetes   (less than that normal)\n",
        "\n",
        "\n",
        "*   link-\n",
        "\n",
        "\n",
        "\n",
        "\n",
        "**Normal people with fasting** : 70 - 100 mg/dl+ diabetes (less than that nomral)\n",
        "*   link- https://diabetesjournals.org/care/article/44/Supplement_1/S15/30859/2-Classification-and-Diagnosis-of-Diabetes\n",
        "\n",
        "**Pregnant without fasting** : 100-126 mg/dl+ is diabetes\n",
        "\n",
        "**Normal people without fasting** :\n",
        "\n",
        "1. 126mg/dl+ is diabetes when they eat something (or without eating)\n",
        "2. After 2 hour 200mg/dl is diabetes.\n"
      ],
      "metadata": {
        "id": "tDMndZrt14Ik"
      }
    },
    {
      "cell_type": "code",
      "source": [
        "extracted_col[['shb51']].value_counts()"
      ],
      "metadata": {
        "colab": {
          "base_uri": "https://localhost:8080/"
        },
        "id": "pl71Q3MuufIw",
        "outputId": "398cf9d6-f023-44c1-d556-3556c9595808"
      },
      "execution_count": null,
      "outputs": [
        {
          "output_type": "execute_result",
          "data": {
            "text/plain": [
              "shb51\n",
              "0.0      195730\n",
              "2.0      132161\n",
              "3.0      118324\n",
              "4.0      100725\n",
              "1.0       87661\n",
              "5.0       56711\n",
              "6.0       36225\n",
              "7.0       15873\n",
              "8.0       10869\n",
              "12.0       7929\n",
              "14.0       6664\n",
              "9.0        6435\n",
              "13.0       5801\n",
              "15.0       5294\n",
              "10.0       5076\n",
              "16.0       4218\n",
              "11.0       3814\n",
              "17.0       2361\n",
              "18.0       1985\n",
              "20.0        814\n",
              "19.0        786\n",
              "30.0        309\n",
              "24.0        305\n",
              "22.0        298\n",
              "21.0        273\n",
              "23.0        142\n",
              "26.0        103\n",
              "25.0         95\n",
              "28.0         91\n",
              "48.0         85\n",
              "29.0         49\n",
              "27.0         47\n",
              "36.0         22\n",
              "33.0         20\n",
              "31.0         19\n",
              "40.0         19\n",
              "32.0         16\n",
              "35.0         10\n",
              "34.0          9\n",
              "39.0          5\n",
              "38.0          5\n",
              "37.0          4\n",
              "41.0          4\n",
              "42.0          4\n",
              "45.0          4\n",
              "44.0          3\n",
              "46.0          1\n",
              "dtype: int64"
            ]
          },
          "metadata": {},
          "execution_count": 16
        }
      ]
    },
    {
      "cell_type": "code",
      "source": [
        "final_df=extracted_col.loc[extracted_col['hv105'] >= 18]"
      ],
      "metadata": {
        "id": "WUh1V8OJC-Um"
      },
      "execution_count": null,
      "outputs": []
    },
    {
      "cell_type": "code",
      "source": [
        "final_diabetes =[]\n",
        "for i in range(0,len(final_df)):\n",
        "    if ((final_df.iloc[i]['shb70']>=126 and  (final_df.iloc[i]['shb51'] >=8 and final_df.iloc[i]['shb52'] >=8)) or final_df.iloc[i]['shb70']>=200) and final_df.iloc[i]['hv105'] >= 18:\n",
        "      final_diabetes.append(1)\n",
        "    else:\n",
        "      final_diabetes.append(0)"
      ],
      "metadata": {
        "id": "gCuNO9n2EP3s"
      },
      "execution_count": null,
      "outputs": []
    },
    {
      "cell_type": "code",
      "source": [
        "pd.DataFrame(final_diabetes).value_counts()"
      ],
      "metadata": {
        "colab": {
          "base_uri": "https://localhost:8080/"
        },
        "id": "-V482V5tE49b",
        "outputId": "00c966ca-ea5f-4924-bf90-a7d58005f5d0"
      },
      "execution_count": null,
      "outputs": [
        {
          "output_type": "execute_result",
          "data": {
            "text/plain": [
              "0    712482\n",
              "1     24958\n",
              "dtype: int64"
            ]
          },
          "metadata": {},
          "execution_count": 30
        }
      ]
    },
    {
      "cell_type": "code",
      "source": [
        "final_df['final_diabetes']=final_diabetes"
      ],
      "metadata": {
        "colab": {
          "base_uri": "https://localhost:8080/"
        },
        "id": "uHB5iVRRFbAK",
        "outputId": "fd30032a-d2dd-45c2-e681-c64f32aa705b"
      },
      "execution_count": null,
      "outputs": [
        {
          "output_type": "stream",
          "name": "stderr",
          "text": [
            "<ipython-input-31-028a0ba2cd19>:1: SettingWithCopyWarning: \n",
            "A value is trying to be set on a copy of a slice from a DataFrame.\n",
            "Try using .loc[row_indexer,col_indexer] = value instead\n",
            "\n",
            "See the caveats in the documentation: https://pandas.pydata.org/pandas-docs/stable/user_guide/indexing.html#returning-a-view-versus-a-copy\n",
            "  final_df['final_diabetes']=final_diabetes\n"
          ]
        }
      ]
    },
    {
      "cell_type": "code",
      "source": [
        "final_df.to_csv('/content/drive/MyDrive/DHS/Diabetes/Data/India/final_data.csv',index=False)"
      ],
      "metadata": {
        "id": "ehIQS_z5GVMR"
      },
      "execution_count": null,
      "outputs": []
    },
    {
      "cell_type": "code",
      "source": [
        "final_df"
      ],
      "metadata": {
        "id": "hgCwcjlK2t3r",
        "colab": {
          "base_uri": "https://localhost:8080/",
          "height": 444
        },
        "outputId": "a5de1009-f6bd-4af9-bf5e-f5cb1f898425"
      },
      "execution_count": null,
      "outputs": [
        {
          "output_type": "execute_result",
          "data": {
            "text/plain": [
              "          hv005   hv021  hv023  hv105  hv115  hv104  hv106  hml18  shb70  \\\n",
              "0        191072   10001  64010     46    1.0      2      0    0.0  116.0   \n",
              "1        191072   10001  64010     20    0.0      2      3    0.0   83.0   \n",
              "2        191072   10001  64010     40    1.0      2      1    0.0  278.0   \n",
              "3        191072   10001  64010     21    0.0      2      3    0.0  154.0   \n",
              "4        191072   10001  64010     19    0.0      2      3    0.0   74.0   \n",
              "...         ...     ...    ...    ...    ...    ...    ...    ...    ...   \n",
              "825756  2270734  360482  54122     47    0.0      2      2    0.0  105.0   \n",
              "825757  2270734  360482  54122     52    3.0      1      1    NaN  995.0   \n",
              "825758  2270734  360482  54122     23    1.0      2      2    0.0  125.0   \n",
              "825759  2270734  360482  54122     46    1.0      2      0    0.0  121.0   \n",
              "825760  2270734  360482  54122     26    0.0      1      2    NaN  138.0   \n",
              "\n",
              "          ha40  ...  hc56  hv026  hv219  ha57  hb60  shb51  shb52  hv109  \\\n",
              "0       2295.0  ...   NaN    NaN      1   2.0   NaN    2.0   13.0      0   \n",
              "1       2203.0  ...   NaN    NaN      1   3.0   NaN    2.0   13.0      5   \n",
              "2       2611.0  ...   NaN    NaN      2   3.0   NaN    1.0    8.0      2   \n",
              "3       3575.0  ...   NaN    NaN      2   4.0   NaN    2.0   24.0      5   \n",
              "4       1988.0  ...   NaN    NaN      2   4.0   NaN    5.0   24.0      5   \n",
              "...        ...  ...   ...    ...    ...   ...   ...    ...    ...    ...   \n",
              "825756     NaN  ...   NaN    NaN      2   3.0   NaN    0.0    6.0      3   \n",
              "825757     NaN  ...   NaN    NaN      1   NaN   NaN    NaN    NaN      1   \n",
              "825758  2145.0  ...   NaN    NaN      1   3.0   NaN   12.0    0.0      4   \n",
              "825759  2489.0  ...   NaN    NaN      1   3.0   NaN    0.0    5.0      0   \n",
              "825760     NaN  ...   NaN    NaN      1   NaN   NaN    8.0    8.0      3   \n",
              "\n",
              "        hv116  final_diabetes  \n",
              "0         1.0               0  \n",
              "1         0.0               0  \n",
              "2         1.0               1  \n",
              "3         0.0               0  \n",
              "4         0.0               0  \n",
              "...       ...             ...  \n",
              "825756    0.0               0  \n",
              "825757    2.0               1  \n",
              "825758    1.0               0  \n",
              "825759    1.0               0  \n",
              "825760    0.0               1  \n",
              "\n",
              "[737440 rows x 42 columns]"
            ],
            "text/html": [
              "\n",
              "  <div id=\"df-08578ab1-77d2-4912-8e3d-757443075a2a\" class=\"colab-df-container\">\n",
              "    <div>\n",
              "<style scoped>\n",
              "    .dataframe tbody tr th:only-of-type {\n",
              "        vertical-align: middle;\n",
              "    }\n",
              "\n",
              "    .dataframe tbody tr th {\n",
              "        vertical-align: top;\n",
              "    }\n",
              "\n",
              "    .dataframe thead th {\n",
              "        text-align: right;\n",
              "    }\n",
              "</style>\n",
              "<table border=\"1\" class=\"dataframe\">\n",
              "  <thead>\n",
              "    <tr style=\"text-align: right;\">\n",
              "      <th></th>\n",
              "      <th>hv005</th>\n",
              "      <th>hv021</th>\n",
              "      <th>hv023</th>\n",
              "      <th>hv105</th>\n",
              "      <th>hv115</th>\n",
              "      <th>hv104</th>\n",
              "      <th>hv106</th>\n",
              "      <th>hml18</th>\n",
              "      <th>shb70</th>\n",
              "      <th>ha40</th>\n",
              "      <th>...</th>\n",
              "      <th>hc56</th>\n",
              "      <th>hv026</th>\n",
              "      <th>hv219</th>\n",
              "      <th>ha57</th>\n",
              "      <th>hb60</th>\n",
              "      <th>shb51</th>\n",
              "      <th>shb52</th>\n",
              "      <th>hv109</th>\n",
              "      <th>hv116</th>\n",
              "      <th>final_diabetes</th>\n",
              "    </tr>\n",
              "  </thead>\n",
              "  <tbody>\n",
              "    <tr>\n",
              "      <th>0</th>\n",
              "      <td>191072</td>\n",
              "      <td>10001</td>\n",
              "      <td>64010</td>\n",
              "      <td>46</td>\n",
              "      <td>1.0</td>\n",
              "      <td>2</td>\n",
              "      <td>0</td>\n",
              "      <td>0.0</td>\n",
              "      <td>116.0</td>\n",
              "      <td>2295.0</td>\n",
              "      <td>...</td>\n",
              "      <td>NaN</td>\n",
              "      <td>NaN</td>\n",
              "      <td>1</td>\n",
              "      <td>2.0</td>\n",
              "      <td>NaN</td>\n",
              "      <td>2.0</td>\n",
              "      <td>13.0</td>\n",
              "      <td>0</td>\n",
              "      <td>1.0</td>\n",
              "      <td>0</td>\n",
              "    </tr>\n",
              "    <tr>\n",
              "      <th>1</th>\n",
              "      <td>191072</td>\n",
              "      <td>10001</td>\n",
              "      <td>64010</td>\n",
              "      <td>20</td>\n",
              "      <td>0.0</td>\n",
              "      <td>2</td>\n",
              "      <td>3</td>\n",
              "      <td>0.0</td>\n",
              "      <td>83.0</td>\n",
              "      <td>2203.0</td>\n",
              "      <td>...</td>\n",
              "      <td>NaN</td>\n",
              "      <td>NaN</td>\n",
              "      <td>1</td>\n",
              "      <td>3.0</td>\n",
              "      <td>NaN</td>\n",
              "      <td>2.0</td>\n",
              "      <td>13.0</td>\n",
              "      <td>5</td>\n",
              "      <td>0.0</td>\n",
              "      <td>0</td>\n",
              "    </tr>\n",
              "    <tr>\n",
              "      <th>2</th>\n",
              "      <td>191072</td>\n",
              "      <td>10001</td>\n",
              "      <td>64010</td>\n",
              "      <td>40</td>\n",
              "      <td>1.0</td>\n",
              "      <td>2</td>\n",
              "      <td>1</td>\n",
              "      <td>0.0</td>\n",
              "      <td>278.0</td>\n",
              "      <td>2611.0</td>\n",
              "      <td>...</td>\n",
              "      <td>NaN</td>\n",
              "      <td>NaN</td>\n",
              "      <td>2</td>\n",
              "      <td>3.0</td>\n",
              "      <td>NaN</td>\n",
              "      <td>1.0</td>\n",
              "      <td>8.0</td>\n",
              "      <td>2</td>\n",
              "      <td>1.0</td>\n",
              "      <td>1</td>\n",
              "    </tr>\n",
              "    <tr>\n",
              "      <th>3</th>\n",
              "      <td>191072</td>\n",
              "      <td>10001</td>\n",
              "      <td>64010</td>\n",
              "      <td>21</td>\n",
              "      <td>0.0</td>\n",
              "      <td>2</td>\n",
              "      <td>3</td>\n",
              "      <td>0.0</td>\n",
              "      <td>154.0</td>\n",
              "      <td>3575.0</td>\n",
              "      <td>...</td>\n",
              "      <td>NaN</td>\n",
              "      <td>NaN</td>\n",
              "      <td>2</td>\n",
              "      <td>4.0</td>\n",
              "      <td>NaN</td>\n",
              "      <td>2.0</td>\n",
              "      <td>24.0</td>\n",
              "      <td>5</td>\n",
              "      <td>0.0</td>\n",
              "      <td>0</td>\n",
              "    </tr>\n",
              "    <tr>\n",
              "      <th>4</th>\n",
              "      <td>191072</td>\n",
              "      <td>10001</td>\n",
              "      <td>64010</td>\n",
              "      <td>19</td>\n",
              "      <td>0.0</td>\n",
              "      <td>2</td>\n",
              "      <td>3</td>\n",
              "      <td>0.0</td>\n",
              "      <td>74.0</td>\n",
              "      <td>1988.0</td>\n",
              "      <td>...</td>\n",
              "      <td>NaN</td>\n",
              "      <td>NaN</td>\n",
              "      <td>2</td>\n",
              "      <td>4.0</td>\n",
              "      <td>NaN</td>\n",
              "      <td>5.0</td>\n",
              "      <td>24.0</td>\n",
              "      <td>5</td>\n",
              "      <td>0.0</td>\n",
              "      <td>0</td>\n",
              "    </tr>\n",
              "    <tr>\n",
              "      <th>...</th>\n",
              "      <td>...</td>\n",
              "      <td>...</td>\n",
              "      <td>...</td>\n",
              "      <td>...</td>\n",
              "      <td>...</td>\n",
              "      <td>...</td>\n",
              "      <td>...</td>\n",
              "      <td>...</td>\n",
              "      <td>...</td>\n",
              "      <td>...</td>\n",
              "      <td>...</td>\n",
              "      <td>...</td>\n",
              "      <td>...</td>\n",
              "      <td>...</td>\n",
              "      <td>...</td>\n",
              "      <td>...</td>\n",
              "      <td>...</td>\n",
              "      <td>...</td>\n",
              "      <td>...</td>\n",
              "      <td>...</td>\n",
              "      <td>...</td>\n",
              "    </tr>\n",
              "    <tr>\n",
              "      <th>825756</th>\n",
              "      <td>2270734</td>\n",
              "      <td>360482</td>\n",
              "      <td>54122</td>\n",
              "      <td>47</td>\n",
              "      <td>0.0</td>\n",
              "      <td>2</td>\n",
              "      <td>2</td>\n",
              "      <td>0.0</td>\n",
              "      <td>105.0</td>\n",
              "      <td>NaN</td>\n",
              "      <td>...</td>\n",
              "      <td>NaN</td>\n",
              "      <td>NaN</td>\n",
              "      <td>2</td>\n",
              "      <td>3.0</td>\n",
              "      <td>NaN</td>\n",
              "      <td>0.0</td>\n",
              "      <td>6.0</td>\n",
              "      <td>3</td>\n",
              "      <td>0.0</td>\n",
              "      <td>0</td>\n",
              "    </tr>\n",
              "    <tr>\n",
              "      <th>825757</th>\n",
              "      <td>2270734</td>\n",
              "      <td>360482</td>\n",
              "      <td>54122</td>\n",
              "      <td>52</td>\n",
              "      <td>3.0</td>\n",
              "      <td>1</td>\n",
              "      <td>1</td>\n",
              "      <td>NaN</td>\n",
              "      <td>995.0</td>\n",
              "      <td>NaN</td>\n",
              "      <td>...</td>\n",
              "      <td>NaN</td>\n",
              "      <td>NaN</td>\n",
              "      <td>1</td>\n",
              "      <td>NaN</td>\n",
              "      <td>NaN</td>\n",
              "      <td>NaN</td>\n",
              "      <td>NaN</td>\n",
              "      <td>1</td>\n",
              "      <td>2.0</td>\n",
              "      <td>1</td>\n",
              "    </tr>\n",
              "    <tr>\n",
              "      <th>825758</th>\n",
              "      <td>2270734</td>\n",
              "      <td>360482</td>\n",
              "      <td>54122</td>\n",
              "      <td>23</td>\n",
              "      <td>1.0</td>\n",
              "      <td>2</td>\n",
              "      <td>2</td>\n",
              "      <td>0.0</td>\n",
              "      <td>125.0</td>\n",
              "      <td>2145.0</td>\n",
              "      <td>...</td>\n",
              "      <td>NaN</td>\n",
              "      <td>NaN</td>\n",
              "      <td>1</td>\n",
              "      <td>3.0</td>\n",
              "      <td>NaN</td>\n",
              "      <td>12.0</td>\n",
              "      <td>0.0</td>\n",
              "      <td>4</td>\n",
              "      <td>1.0</td>\n",
              "      <td>0</td>\n",
              "    </tr>\n",
              "    <tr>\n",
              "      <th>825759</th>\n",
              "      <td>2270734</td>\n",
              "      <td>360482</td>\n",
              "      <td>54122</td>\n",
              "      <td>46</td>\n",
              "      <td>1.0</td>\n",
              "      <td>2</td>\n",
              "      <td>0</td>\n",
              "      <td>0.0</td>\n",
              "      <td>121.0</td>\n",
              "      <td>2489.0</td>\n",
              "      <td>...</td>\n",
              "      <td>NaN</td>\n",
              "      <td>NaN</td>\n",
              "      <td>1</td>\n",
              "      <td>3.0</td>\n",
              "      <td>NaN</td>\n",
              "      <td>0.0</td>\n",
              "      <td>5.0</td>\n",
              "      <td>0</td>\n",
              "      <td>1.0</td>\n",
              "      <td>0</td>\n",
              "    </tr>\n",
              "    <tr>\n",
              "      <th>825760</th>\n",
              "      <td>2270734</td>\n",
              "      <td>360482</td>\n",
              "      <td>54122</td>\n",
              "      <td>26</td>\n",
              "      <td>0.0</td>\n",
              "      <td>1</td>\n",
              "      <td>2</td>\n",
              "      <td>NaN</td>\n",
              "      <td>138.0</td>\n",
              "      <td>NaN</td>\n",
              "      <td>...</td>\n",
              "      <td>NaN</td>\n",
              "      <td>NaN</td>\n",
              "      <td>1</td>\n",
              "      <td>NaN</td>\n",
              "      <td>NaN</td>\n",
              "      <td>8.0</td>\n",
              "      <td>8.0</td>\n",
              "      <td>3</td>\n",
              "      <td>0.0</td>\n",
              "      <td>1</td>\n",
              "    </tr>\n",
              "  </tbody>\n",
              "</table>\n",
              "<p>737440 rows × 42 columns</p>\n",
              "</div>\n",
              "    <div class=\"colab-df-buttons\">\n",
              "\n",
              "  <div class=\"colab-df-container\">\n",
              "    <button class=\"colab-df-convert\" onclick=\"convertToInteractive('df-08578ab1-77d2-4912-8e3d-757443075a2a')\"\n",
              "            title=\"Convert this dataframe to an interactive table.\"\n",
              "            style=\"display:none;\">\n",
              "\n",
              "  <svg xmlns=\"http://www.w3.org/2000/svg\" height=\"24px\" viewBox=\"0 -960 960 960\">\n",
              "    <path d=\"M120-120v-720h720v720H120Zm60-500h600v-160H180v160Zm220 220h160v-160H400v160Zm0 220h160v-160H400v160ZM180-400h160v-160H180v160Zm440 0h160v-160H620v160ZM180-180h160v-160H180v160Zm440 0h160v-160H620v160Z\"/>\n",
              "  </svg>\n",
              "    </button>\n",
              "\n",
              "  <style>\n",
              "    .colab-df-container {\n",
              "      display:flex;\n",
              "      gap: 12px;\n",
              "    }\n",
              "\n",
              "    .colab-df-convert {\n",
              "      background-color: #E8F0FE;\n",
              "      border: none;\n",
              "      border-radius: 50%;\n",
              "      cursor: pointer;\n",
              "      display: none;\n",
              "      fill: #1967D2;\n",
              "      height: 32px;\n",
              "      padding: 0 0 0 0;\n",
              "      width: 32px;\n",
              "    }\n",
              "\n",
              "    .colab-df-convert:hover {\n",
              "      background-color: #E2EBFA;\n",
              "      box-shadow: 0px 1px 2px rgba(60, 64, 67, 0.3), 0px 1px 3px 1px rgba(60, 64, 67, 0.15);\n",
              "      fill: #174EA6;\n",
              "    }\n",
              "\n",
              "    .colab-df-buttons div {\n",
              "      margin-bottom: 4px;\n",
              "    }\n",
              "\n",
              "    [theme=dark] .colab-df-convert {\n",
              "      background-color: #3B4455;\n",
              "      fill: #D2E3FC;\n",
              "    }\n",
              "\n",
              "    [theme=dark] .colab-df-convert:hover {\n",
              "      background-color: #434B5C;\n",
              "      box-shadow: 0px 1px 3px 1px rgba(0, 0, 0, 0.15);\n",
              "      filter: drop-shadow(0px 1px 2px rgba(0, 0, 0, 0.3));\n",
              "      fill: #FFFFFF;\n",
              "    }\n",
              "  </style>\n",
              "\n",
              "    <script>\n",
              "      const buttonEl =\n",
              "        document.querySelector('#df-08578ab1-77d2-4912-8e3d-757443075a2a button.colab-df-convert');\n",
              "      buttonEl.style.display =\n",
              "        google.colab.kernel.accessAllowed ? 'block' : 'none';\n",
              "\n",
              "      async function convertToInteractive(key) {\n",
              "        const element = document.querySelector('#df-08578ab1-77d2-4912-8e3d-757443075a2a');\n",
              "        const dataTable =\n",
              "          await google.colab.kernel.invokeFunction('convertToInteractive',\n",
              "                                                    [key], {});\n",
              "        if (!dataTable) return;\n",
              "\n",
              "        const docLinkHtml = 'Like what you see? Visit the ' +\n",
              "          '<a target=\"_blank\" href=https://colab.research.google.com/notebooks/data_table.ipynb>data table notebook</a>'\n",
              "          + ' to learn more about interactive tables.';\n",
              "        element.innerHTML = '';\n",
              "        dataTable['output_type'] = 'display_data';\n",
              "        await google.colab.output.renderOutput(dataTable, element);\n",
              "        const docLink = document.createElement('div');\n",
              "        docLink.innerHTML = docLinkHtml;\n",
              "        element.appendChild(docLink);\n",
              "      }\n",
              "    </script>\n",
              "  </div>\n",
              "\n",
              "\n",
              "<div id=\"df-9b46fdad-bc0f-4a2a-8a08-80487f147c0e\">\n",
              "  <button class=\"colab-df-quickchart\" onclick=\"quickchart('df-9b46fdad-bc0f-4a2a-8a08-80487f147c0e')\"\n",
              "            title=\"Suggest charts.\"\n",
              "            style=\"display:none;\">\n",
              "\n",
              "<svg xmlns=\"http://www.w3.org/2000/svg\" height=\"24px\"viewBox=\"0 0 24 24\"\n",
              "     width=\"24px\">\n",
              "    <g>\n",
              "        <path d=\"M19 3H5c-1.1 0-2 .9-2 2v14c0 1.1.9 2 2 2h14c1.1 0 2-.9 2-2V5c0-1.1-.9-2-2-2zM9 17H7v-7h2v7zm4 0h-2V7h2v10zm4 0h-2v-4h2v4z\"/>\n",
              "    </g>\n",
              "</svg>\n",
              "  </button>\n",
              "\n",
              "<style>\n",
              "  .colab-df-quickchart {\n",
              "      --bg-color: #E8F0FE;\n",
              "      --fill-color: #1967D2;\n",
              "      --hover-bg-color: #E2EBFA;\n",
              "      --hover-fill-color: #174EA6;\n",
              "      --disabled-fill-color: #AAA;\n",
              "      --disabled-bg-color: #DDD;\n",
              "  }\n",
              "\n",
              "  [theme=dark] .colab-df-quickchart {\n",
              "      --bg-color: #3B4455;\n",
              "      --fill-color: #D2E3FC;\n",
              "      --hover-bg-color: #434B5C;\n",
              "      --hover-fill-color: #FFFFFF;\n",
              "      --disabled-bg-color: #3B4455;\n",
              "      --disabled-fill-color: #666;\n",
              "  }\n",
              "\n",
              "  .colab-df-quickchart {\n",
              "    background-color: var(--bg-color);\n",
              "    border: none;\n",
              "    border-radius: 50%;\n",
              "    cursor: pointer;\n",
              "    display: none;\n",
              "    fill: var(--fill-color);\n",
              "    height: 32px;\n",
              "    padding: 0;\n",
              "    width: 32px;\n",
              "  }\n",
              "\n",
              "  .colab-df-quickchart:hover {\n",
              "    background-color: var(--hover-bg-color);\n",
              "    box-shadow: 0 1px 2px rgba(60, 64, 67, 0.3), 0 1px 3px 1px rgba(60, 64, 67, 0.15);\n",
              "    fill: var(--button-hover-fill-color);\n",
              "  }\n",
              "\n",
              "  .colab-df-quickchart-complete:disabled,\n",
              "  .colab-df-quickchart-complete:disabled:hover {\n",
              "    background-color: var(--disabled-bg-color);\n",
              "    fill: var(--disabled-fill-color);\n",
              "    box-shadow: none;\n",
              "  }\n",
              "\n",
              "  .colab-df-spinner {\n",
              "    border: 2px solid var(--fill-color);\n",
              "    border-color: transparent;\n",
              "    border-bottom-color: var(--fill-color);\n",
              "    animation:\n",
              "      spin 1s steps(1) infinite;\n",
              "  }\n",
              "\n",
              "  @keyframes spin {\n",
              "    0% {\n",
              "      border-color: transparent;\n",
              "      border-bottom-color: var(--fill-color);\n",
              "      border-left-color: var(--fill-color);\n",
              "    }\n",
              "    20% {\n",
              "      border-color: transparent;\n",
              "      border-left-color: var(--fill-color);\n",
              "      border-top-color: var(--fill-color);\n",
              "    }\n",
              "    30% {\n",
              "      border-color: transparent;\n",
              "      border-left-color: var(--fill-color);\n",
              "      border-top-color: var(--fill-color);\n",
              "      border-right-color: var(--fill-color);\n",
              "    }\n",
              "    40% {\n",
              "      border-color: transparent;\n",
              "      border-right-color: var(--fill-color);\n",
              "      border-top-color: var(--fill-color);\n",
              "    }\n",
              "    60% {\n",
              "      border-color: transparent;\n",
              "      border-right-color: var(--fill-color);\n",
              "    }\n",
              "    80% {\n",
              "      border-color: transparent;\n",
              "      border-right-color: var(--fill-color);\n",
              "      border-bottom-color: var(--fill-color);\n",
              "    }\n",
              "    90% {\n",
              "      border-color: transparent;\n",
              "      border-bottom-color: var(--fill-color);\n",
              "    }\n",
              "  }\n",
              "</style>\n",
              "\n",
              "  <script>\n",
              "    async function quickchart(key) {\n",
              "      const quickchartButtonEl =\n",
              "        document.querySelector('#' + key + ' button');\n",
              "      quickchartButtonEl.disabled = true;  // To prevent multiple clicks.\n",
              "      quickchartButtonEl.classList.add('colab-df-spinner');\n",
              "      try {\n",
              "        const charts = await google.colab.kernel.invokeFunction(\n",
              "            'suggestCharts', [key], {});\n",
              "      } catch (error) {\n",
              "        console.error('Error during call to suggestCharts:', error);\n",
              "      }\n",
              "      quickchartButtonEl.classList.remove('colab-df-spinner');\n",
              "      quickchartButtonEl.classList.add('colab-df-quickchart-complete');\n",
              "    }\n",
              "    (() => {\n",
              "      let quickchartButtonEl =\n",
              "        document.querySelector('#df-9b46fdad-bc0f-4a2a-8a08-80487f147c0e button');\n",
              "      quickchartButtonEl.style.display =\n",
              "        google.colab.kernel.accessAllowed ? 'block' : 'none';\n",
              "    })();\n",
              "  </script>\n",
              "</div>\n",
              "    </div>\n",
              "  </div>\n"
            ]
          },
          "metadata": {},
          "execution_count": 33
        }
      ]
    },
    {
      "cell_type": "code",
      "source": [],
      "metadata": {
        "id": "StemVgGr3sbj"
      },
      "execution_count": null,
      "outputs": []
    }
  ]
}